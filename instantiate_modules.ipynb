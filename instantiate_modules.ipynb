{
 "cells": [
  {
   "cell_type": "code",
   "execution_count": 2,
   "metadata": {
    "collapsed": true
   },
   "outputs": [],
   "source": [
    "from IPython.core.display import display\n",
    "from src.dataSetHandler import DatasetInfo, DatasetHandler\n",
    "import pandas as pd\n",
    "import numpy as np\n",
    "from src.trainer import EPTrainer\n",
    "\n",
    "dataset_info = DatasetInfo(\n",
    "    name=\"ud_data\",\n",
    "    num_spans=2,\n",
    "    frac=1\n",
    ")"
   ]
  },
  {
   "cell_type": "code",
   "execution_count": null,
   "outputs": [],
   "source": [
    "from transformers import AutoTokenizer\n",
    "\n",
    "model_name = 'xlnet-base-cased'\n",
    "tokenizer = AutoTokenizer.from_pretrained(model_name)"
   ],
   "metadata": {
    "collapsed": false,
    "pycharm": {
     "name": "#%%\n"
    }
   }
  },
  {
   "cell_type": "code",
   "execution_count": null,
   "outputs": [],
   "source": [
    "dataset_handler = DatasetHandler(\n",
    "    root_dir_path=\"/content/edge-probing-datasets/data/\",\n",
    "    dataset_info=dataset_info,\n",
    "    tokenizer=tokenizer\n",
    ")"
   ],
   "metadata": {
    "collapsed": false,
    "pycharm": {
     "name": "#%%\n"
    }
   }
  },
  {
   "cell_type": "code",
   "execution_count": null,
   "outputs": [],
   "source": [
    "# Check\n",
    "rnd_idx = np.random.randint(100)\n",
    "part = \"train\"\n",
    "\n",
    "display(pd.DataFrame(dataset_handler.tokenized_dataset[part][0:3]))\n",
    "print(dataset_handler.tokenized_dataset)\n",
    "print(\"Original Spans:\", dataset_handler.dataset_dict[part][rnd_idx])\n",
    "print(\"Tokenized Spans:\", dataset_handler.tokenized_dataset[part][rnd_idx])\n",
    "test_tokens = tokenizer.convert_ids_to_tokens(dataset_handler.tokenized_dataset[part][rnd_idx][\"input_ids\"])\n",
    "print(test_tokens)\n",
    "\n",
    "s10, s11 = dataset_handler.tokenized_dataset[part][rnd_idx][\"span1\"][0], dataset_handler.tokenized_dataset[part][rnd_idx][\"span1\"][-1]\n",
    "s20, s21 = dataset_handler.tokenized_dataset[part][rnd_idx][\"span2\"][0], dataset_handler.tokenized_dataset[part][rnd_idx][\"span2\"][-1]\n",
    "print(\"span1:\", s10, s11, test_tokens[s10:s11])\n",
    "print(\"span2:\", s20, s21, test_tokens[s20:s21])\n",
    "print(\"label:\", dataset_handler.tokenized_dataset[part][rnd_idx][\"label\"])\n",
    "\n",
    "pd.DataFrame(dataset_handler.tokenized_dataset[part][\"label\"], columns=['label'])[\"label\"].value_counts().plot(kind='barh', color=\"green\", figsize=(10, 9));"
   ],
   "metadata": {
    "collapsed": false,
    "pycharm": {
     "name": "#%%\n"
    }
   }
  },
  {
   "cell_type": "code",
   "execution_count": null,
   "outputs": [],
   "source": [
    "from transformers import XLNetModel\n",
    "\n",
    "model = XLNetModel.from_pretrained(model_name, output_hidden_states=True)"
   ],
   "metadata": {
    "collapsed": false,
    "pycharm": {
     "name": "#%%\n"
    }
   }
  },
  {
   "cell_type": "code",
   "execution_count": null,
   "outputs": [],
   "source": [
    "ep_trainer = EPTrainer(\n",
    "    pretrained_model=model.to('cuda'),\n",
    "    dataset_handler=dataset_handler,\n",
    "    batch_size = 64\n",
    ")"
   ],
   "metadata": {
    "collapsed": false,
    "pycharm": {
     "name": "#%%\n"
    }
   }
  },
  {
   "cell_type": "code",
   "execution_count": null,
   "outputs": [],
   "source": [
    "%%time\n",
    "ep_trainer.train(epochs=3)"
   ],
   "metadata": {
    "collapsed": false,
    "pycharm": {
     "name": "#%%\n"
    }
   }
  }
 ],
 "metadata": {
  "kernelspec": {
   "display_name": "Python 3",
   "language": "python",
   "name": "python3"
  },
  "language_info": {
   "codemirror_mode": {
    "name": "ipython",
    "version": 2
   },
   "file_extension": ".py",
   "mimetype": "text/x-python",
   "name": "python",
   "nbconvert_exporter": "python",
   "pygments_lexer": "ipython2",
   "version": "2.7.6"
  }
 },
 "nbformat": 4,
 "nbformat_minor": 0
}